{
 "cells": [
  {
   "cell_type": "code",
   "id": "initial_id",
   "metadata": {
    "collapsed": true,
    "ExecuteTime": {
     "end_time": "2024-11-29T06:29:02.253494Z",
     "start_time": "2024-11-29T06:29:01.522681Z"
    }
   },
   "source": [
    "from sympy import symbols, Eq, solve, Matrix\n",
    "import sympy as sp\n",
    "import math"
   ],
   "outputs": [],
   "execution_count": 1
  },
  {
   "metadata": {},
   "cell_type": "markdown",
   "source": "## Gregory Maju",
   "id": "2cdd14cfb97a20e2"
  },
  {
   "metadata": {
    "ExecuteTime": {
     "end_time": "2024-11-29T06:29:02.329790Z",
     "start_time": "2024-11-29T06:29:02.255499Z"
    }
   },
   "cell_type": "code",
   "source": [
    "data = [\n",
    "    [1, 3.5, 6, 8.5],  # X\n",
    "    [2.7, 3.32, 12.18, 20.1]  # Y\n",
    "]\n",
    "pembulatan = 5\n",
    "\n",
    "x = 5\n",
    "h = data[0][1] - data[0][0]\n",
    "s = (x - data[0][0])/h\n",
    "print(\"======================== COMPONENTS ========================\")\n",
    "print(f\"x: {x}\")\n",
    "print(f\"h: {h}\")\n",
    "print(f\"s: {s:.5f}\\n\")\n",
    "\n",
    "n = len(data[1])\n",
    "\n",
    "# res = [\n",
    "#     [2.7],\n",
    "#     [3.32],\n",
    "#     [12.18],\n",
    "#     [20.1]\n",
    "# ]\n",
    "res = [[y] for y in data[1]]\n",
    "\n",
    "# ===== Calculation Tables =====\n",
    "for i in range(n-1):\n",
    "    for j in range(n-i-1):\n",
    "        curr = res[j][i]\n",
    "        curr_forward = res[j+1][i]\n",
    "        temp = curr_forward - curr\n",
    "        res[j].append(temp)\n",
    "\n",
    "print(\"======================== TABLE ========================\")\n",
    "for val in res:\n",
    "    for v in val:\n",
    "        print(f\"{round(v, pembulatan):<12}\", end=\"\")\n",
    "    print(\"\")\n",
    "print(\"\")\n",
    "\n",
    "# ===== Derivative Calculation =====\n",
    "\n",
    "# Coefficient for derivative\n",
    "derivative = res[0][1] / h  # Start with Δy₀ / h (first-order term)\n",
    "\n",
    "# for i in range(2, len(res[0])):  # Start from the second-order term\n",
    "#     term = res[0][i]  # Δ^i y₀\n",
    "#     factorial = math.factorial(i)  # Factorial of the current order\n",
    "#     # Calculate the coefficient (multiplier for the current term)\n",
    "#     if i == 2:\n",
    "#         coefficient = (2 * s - 1)\n",
    "#     elif i == 3:\n",
    "#         coefficient = (3 * s**2 - 6 * s + 2)\n",
    "#     elif i == 4:\n",
    "#         coefficient = (4 * s**3 - 18 * s**2 + 22 * s - 6)\n",
    "#     else:\n",
    "#         raise ValueError(\"Higher-order terms need to be explicitly defined.\")\n",
    "#     # Add the term to the derivative\n",
    "#     derivative += (term * coefficient) / (factorial * h)\n",
    "\n",
    "for i in range(2, len(res[0])):  # Start from the second-order term\n",
    "    term = res[0][i]  # Δ^i y₀\n",
    "    factorial = math.factorial(i)  # Factorial of the current order\n",
    "    # Calculate the coefficient (multiplier for the current term)\n",
    "    s_ = symbols('s')\n",
    "    coefficient = s_\n",
    "    for i in range(1, i):\n",
    "        coefficient *= (s_ - i)\n",
    "    coefficient = sp.diff(coefficient, s_)\n",
    "    coefficient = coefficient.subs({s_: s}).evalf()\n",
    "    derivative += (term * coefficient) / (factorial * h)\n",
    "\n",
    "\n",
    "print(\"======================== RESULT ========================\")\n",
    "print(f\"y'({x}) = {round(derivative, pembulatan)}\")"
   ],
   "id": "adce80c379a855f6",
   "outputs": [
    {
     "name": "stdout",
     "output_type": "stream",
     "text": [
      "======================== COMPONENTS ========================\n",
      "x: 5\n",
      "h: 2.5\n",
      "s: 1.60000\n",
      "\n",
      "======================== TABLE ========================\n",
      "2.7         0.62        8.24        -9.18       \n",
      "3.32        8.86        -0.94       \n",
      "12.18       7.92        \n",
      "20.1        \n",
      "\n",
      "======================== RESULT ========================\n",
      "y'(5) = 3.82464\n"
     ]
    }
   ],
   "execution_count": 2
  },
  {
   "metadata": {},
   "cell_type": "markdown",
   "source": "## Gregory Mundur",
   "id": "15355d03f0c41f53"
  },
  {
   "metadata": {
    "ExecuteTime": {
     "end_time": "2024-11-29T06:25:26.760168Z",
     "start_time": "2024-11-29T06:25:26.754168Z"
    }
   },
   "cell_type": "code",
   "source": "",
   "id": "ea1d38af3021bd07",
   "outputs": [],
   "execution_count": null
  },
  {
   "metadata": {},
   "cell_type": "markdown",
   "source": "## Lagrange",
   "id": "3c9f5961f9fff533"
  },
  {
   "metadata": {},
   "cell_type": "code",
   "outputs": [],
   "execution_count": null,
   "source": "",
   "id": "8ec94f109abd8e44"
  }
 ],
 "metadata": {
  "kernelspec": {
   "display_name": "Python 3",
   "language": "python",
   "name": "python3"
  },
  "language_info": {
   "codemirror_mode": {
    "name": "ipython",
    "version": 2
   },
   "file_extension": ".py",
   "mimetype": "text/x-python",
   "name": "python",
   "nbconvert_exporter": "python",
   "pygments_lexer": "ipython2",
   "version": "2.7.6"
  }
 },
 "nbformat": 4,
 "nbformat_minor": 5
}
