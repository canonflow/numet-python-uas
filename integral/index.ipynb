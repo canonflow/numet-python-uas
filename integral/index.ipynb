{
 "cells": [
  {
   "cell_type": "code",
   "id": "initial_id",
   "metadata": {
    "collapsed": true,
    "ExecuteTime": {
     "end_time": "2024-12-14T08:47:48.208054Z",
     "start_time": "2024-12-14T08:47:47.460045Z"
    }
   },
   "source": [
    "from sympy import symbols, Eq, solve, Matrix\n",
    "import sympy as sp\n",
    "import math"
   ],
   "outputs": [],
   "execution_count": 1
  },
  {
   "metadata": {},
   "cell_type": "markdown",
   "source": "# Trapesium with Segmen",
   "id": "71ef4e82e150db6c"
  },
  {
   "metadata": {
    "ExecuteTime": {
     "end_time": "2024-12-14T09:32:14.855085Z",
     "start_time": "2024-12-14T09:32:14.771088Z"
    }
   },
   "cell_type": "code",
   "source": [
    "x = symbols('x')\n",
    "fx = x ** 2 * sp.ln(2*x)\n",
    "PEMBULATAN = 5\n",
    "\n",
    "a = 1\n",
    "b = 4\n",
    "n = 6  # Segmen\n",
    "h = (b - a) /  n\n",
    "exact = round(sp.integrate(fx, (x, a, b)), 5)\n",
    "print(f\"Exact: {round(exact, PEMBULATAN)}\")\n",
    "I = fx.subs({x: a}).evalf() + fx.subs({x: b}).evalf()\n",
    "# print(I)\n",
    "temp = a\n",
    "\n",
    "for i in range(n-1):\n",
    "    temp += h\n",
    "    I += 2 * fx.subs({x: temp}).evalf()\n",
    "    \n",
    "I *= (h/2)\n",
    "\n",
    "# Output\n",
    "print(f\"Trapesium = {round(I, PEMBULATAN)}\")\n",
    "kesalahan_sebenarnya = exact - I\n",
    "print(f\"|Kesalahan Sebenarnya (Et)| = {abs(round(kesalahan_sebenarnya, PEMBULATAN))}\")\n",
    "print(f\"|Kesalahan Relatif (et)| = {round(abs((kesalahan_sebenarnya / exact) * 100), PEMBULATAN)}%\")  # In percent"
   ],
   "id": "78843f451dad4c95",
   "outputs": [
    {
     "name": "stdout",
     "output_type": "stream",
     "text": [
      "Exact: 37.13037\n",
      "Trapesium = 37.51069\n",
      "|Kesalahan Sebenarnya (Et)| = 0.38032\n",
      "|Kesalahan Relatif (et)| = 1.02429%\n"
     ]
    }
   ],
   "execution_count": 68
  },
  {
   "metadata": {},
   "cell_type": "markdown",
   "source": "# Trapesium with Table",
   "id": "b7a0e11c06849b7f"
  },
  {
   "metadata": {
    "ExecuteTime": {
     "end_time": "2024-12-14T09:32:28.850947Z",
     "start_time": "2024-12-14T09:32:28.780938Z"
    }
   },
   "cell_type": "code",
   "source": [
    "data = [\n",
    "    [1, 2, 3, 4, 5, 6, 7, 9, 11, 13, 15, 17, 19],\n",
    "    [1.10517, 2.44281, 4.04958, 5.96730, 8.24361, 10.93271, 14.09627, 22.13643, 33.04583, 47.70086, 67.22534, 93.05711, 127.03199]\n",
    "]\n",
    "PEMBULATAN = 5\n",
    "\n",
    "x = symbols('x')\n",
    "fx = x * sp.exp(0.1 * x)\n",
    "a = 1\n",
    "b = 19\n",
    "n = len(data[0]) - 1\n",
    "h = (b - a) / n\n",
    "exact = round(sp.integrate(fx, (x, a, b)), PEMBULATAN)\n",
    "print(f\"Exact: {round(exact, PEMBULATAN)}\")\n",
    "\n",
    "I = data[1][0] + data[1][-1]\n",
    "\n",
    "for i in range(1, n):\n",
    "    I += 2 * data[1][i]\n",
    "    \n",
    "I *= (h/2)\n",
    "\n",
    "print(f\"Trapesium = {round(I, PEMBULATAN)}\")\n",
    "kesalahan_sebenarnya = exact - I\n",
    "print(f\"|Kesalahan Sebenarnya (Et)| = {abs(round(kesalahan_sebenarnya, PEMBULATAN))}\")\n",
    "print(f\"|Kesalahan Relatif (et)| = {round(abs((kesalahan_sebenarnya / exact) * 100), PEMBULATAN)}%\")  # In percent\n"
   ],
   "id": "b9ed1341222ed223",
   "outputs": [
    {
     "name": "stdout",
     "output_type": "stream",
     "text": [
      "Exact: 701.19588\n",
      "Trapesium = 559.44964\n",
      "|Kesalahan Sebenarnya (Et)| = 141.74623\n",
      "|Kesalahan Relatif (et)| = 20.21493%\n"
     ]
    }
   ],
   "execution_count": 69
  },
  {
   "metadata": {},
   "cell_type": "markdown",
   "source": "# Simpson 1/3 with Segmen",
   "id": "7b2330ed4cee29a7"
  },
  {
   "metadata": {
    "ExecuteTime": {
     "end_time": "2024-12-14T09:37:26.270548Z",
     "start_time": "2024-12-14T09:37:26.178548Z"
    }
   },
   "cell_type": "code",
   "source": [
    "PEMBULATAN = 5\n",
    "x = symbols('x')\n",
    "fx = x ** 2 * sp.ln(2*x)\n",
    "\n",
    "a = 1\n",
    "b = 4\n",
    "n = 6  # Segmen\n",
    "h = (b - a) /  n\n",
    "exact = round(sp.integrate(fx, (x, a, b)), PEMBULATAN)\n",
    "print(f\"Exact: {round(exact, PEMBULATAN)}\")\n",
    "I = fx.subs({x: a}).evalf() + fx.subs({x: b}).evalf()\n",
    "# print(I)\n",
    "temp = a\n",
    "\n",
    "for i in range(1, n):\n",
    "    temp += h\n",
    "    multiplier = 2\n",
    "    if i % 2 == 1:\n",
    "        multiplier = 4\n",
    "    I += multiplier * fx.subs({x: temp}).evalf()\n",
    "        \n",
    "\n",
    "I *= (h/3)\n",
    "\n",
    "# Output\n",
    "print(f\"Simpson 1/3 = {round(I, PEMBULATAN)}\")\n",
    "kesalahan_sebenarnya = exact - I\n",
    "print(f\"|Kesalahan Sebenarnya (Et)| = {abs(round(kesalahan_sebenarnya, PEMBULATAN))}\")\n",
    "print(f\"|Kesalahan Relatif (et)| = {round(abs((kesalahan_sebenarnya / exact) * 100), PEMBULATAN)}%\")  # In percent"
   ],
   "id": "a701fb1d78721b1e",
   "outputs": [
    {
     "name": "stdout",
     "output_type": "stream",
     "text": [
      "Exact: 37.13037\n",
      "Simpson 1/3 = 37.12988\n",
      "|Kesalahan Sebenarnya (Et)| = 0.00049\n",
      "|Kesalahan Relatif (et)| = 0.00131%\n"
     ]
    }
   ],
   "execution_count": 73
  },
  {
   "metadata": {},
   "cell_type": "markdown",
   "source": "# Simpson 1/3 with Table",
   "id": "46ac66ed1a909270"
  },
  {
   "metadata": {
    "ExecuteTime": {
     "end_time": "2024-12-14T09:37:27.924112Z",
     "start_time": "2024-12-14T09:37:27.849104Z"
    }
   },
   "cell_type": "code",
   "source": [
    "data = [\n",
    "    [1, 2, 3, 4, 5, 6, 7, 9, 11, 13, 15, 17, 19],\n",
    "    [1.10517, 2.44281, 4.04958, 5.96730, 8.24361, 10.93271, 14.09627, 22.13643, 33.04583, 47.70086, 67.22534, 93.05711, 127.03199]\n",
    "]\n",
    "PEMBULATAN = 5\n",
    "\n",
    "x = symbols('x')\n",
    "fx = x * sp.exp(0.1 * x)\n",
    "a = 1\n",
    "b = 19\n",
    "n = len(data[0]) - 1\n",
    "h = (b - a) / n\n",
    "exact = round(sp.integrate(fx, (x, a, b)), PEMBULATAN)\n",
    "print(f\"Exact = {round(exact, PEMBULATAN)}\")\n",
    "\n",
    "I = data[1][0] + data[1][-1]\n",
    "\n",
    "for i in range(1, n):\n",
    "    multiplier = 2\n",
    "    if i % 2 == 1:\n",
    "        multiplier = 4\n",
    "    I += multiplier * data[1][i]\n",
    "\n",
    "I *= (h/3)\n",
    "\n",
    "print(f\"Simpson 1/3 = {round(I, PEMBULATAN)}\")\n",
    "kesalahan_sebenarnya = exact - I\n",
    "print(f\"|Kesalahan Sebenarnya (Et)| = {abs(round(kesalahan_sebenarnya, PEMBULATAN))}\")\n",
    "print(f\"|Kesalahan Relatif (et)| = {round(abs((kesalahan_sebenarnya / exact) * 100), PEMBULATAN)}%\")  # In percent\n"
   ],
   "id": "8f13c2fcece3d901",
   "outputs": [
    {
     "name": "stdout",
     "output_type": "stream",
     "text": [
      "Exact = 701.19588\n",
      "Simpson 1/3 = 555.20365\n",
      "|Kesalahan Sebenarnya (Et)| = 145.99223\n",
      "|Kesalahan Relatif (et)| = 20.82046%\n"
     ]
    }
   ],
   "execution_count": 74
  },
  {
   "metadata": {},
   "cell_type": "markdown",
   "source": "# Simpson 3/8 with Segmen",
   "id": "fcbd4c7c0e3ad98c"
  },
  {
   "metadata": {
    "ExecuteTime": {
     "end_time": "2024-12-14T09:53:02.648154Z",
     "start_time": "2024-12-14T09:53:02.558157Z"
    }
   },
   "cell_type": "code",
   "source": [
    "PEMBULATAN = 5\n",
    "x = symbols('x')\n",
    "fx = x ** 2 * sp.ln(2*x)\n",
    "\n",
    "a = 1\n",
    "b = 4\n",
    "n = 6  # Segmen\n",
    "h = (b - a) /  n\n",
    "exact = round(sp.integrate(fx, (x, a, b)), PEMBULATAN)\n",
    "print(f\"Exact = {round(exact, PEMBULATAN)}\")\n",
    "I = fx.subs({x: a}).evalf() + fx.subs({x: b}).evalf()\n",
    "# print(I)\n",
    "temp = a\n",
    "\n",
    "for i in range(1, n):\n",
    "    temp += h\n",
    "    multiplier = 3\n",
    "    if i % 3 == 0:\n",
    "        multiplier = 2\n",
    "    I += multiplier * fx.subs({x: temp}).evalf()\n",
    "\n",
    "\n",
    "I *= (3 * h/ 8)\n",
    "\n",
    "# Output\n",
    "print(f\"Simpson 3/8 = {round(I, PEMBULATAN)}\")\n",
    "kesalahan_sebenarnya = exact - I\n",
    "print(f\"|Kesalahan Sebenarnya (Et)| = {abs(round(kesalahan_sebenarnya, PEMBULATAN))}\")\n",
    "print(f\"|Kesalahan Relatif (et)| = {round(abs((kesalahan_sebenarnya / exact) * 100), PEMBULATAN)}%\")  # In percent"
   ],
   "id": "24e4aabb8b2ea00f",
   "outputs": [
    {
     "name": "stdout",
     "output_type": "stream",
     "text": [
      "Exact = 37.13037\n",
      "Simpson 3/8 = 37.12932\n",
      "|Kesalahan Sebenarnya (Et)| = 0.00105\n",
      "|Kesalahan Relatif (et)| = 0.00282%\n"
     ]
    }
   ],
   "execution_count": 77
  },
  {
   "metadata": {},
   "cell_type": "markdown",
   "source": "# Simpson 3/8 with Table",
   "id": "ac0705ad1d668453"
  },
  {
   "metadata": {
    "ExecuteTime": {
     "end_time": "2024-12-14T09:53:54.387776Z",
     "start_time": "2024-12-14T09:53:54.327776Z"
    }
   },
   "cell_type": "code",
   "source": [
    "data = [\n",
    "    [1, 2, 3, 4, 5, 6, 7, 9, 11, 13, 15, 17, 19],\n",
    "    [1.10517, 2.44281, 4.04958, 5.96730, 8.24361, 10.93271, 14.09627, 22.13643, 33.04583, 47.70086, 67.22534, 93.05711, 127.03199]\n",
    "]\n",
    "PEMBULATAN = 5\n",
    "\n",
    "x = symbols('x')\n",
    "fx = x * sp.exp(0.1 * x)\n",
    "a = 1\n",
    "b = 19\n",
    "n = len(data[0]) - 1\n",
    "h = (b - a) / n\n",
    "exact = round(sp.integrate(fx, (x, a, b)), PEMBULATAN)\n",
    "print(f\"Exact = {round(exact, PEMBULATAN)}\")\n",
    "\n",
    "I = data[1][0] + data[1][-1]\n",
    "\n",
    "for i in range(1, n):\n",
    "    multiplier = 3\n",
    "    if i % 3 == 0:\n",
    "        multiplier = 2\n",
    "    I += multiplier * data[1][i]\n",
    "\n",
    "I *= (3 * h/ 8)\n",
    "\n",
    "print(f\"Simpson 8/3 = {round(I, PEMBULATAN)}\")\n",
    "kesalahan_sebenarnya = exact - I\n",
    "print(f\"|Kesalahan Sebenarnya (Et)| = {abs(round(kesalahan_sebenarnya, PEMBULATAN))}\")\n",
    "print(f\"|Kesalahan Relatif (et)| = {round(abs((kesalahan_sebenarnya / exact) * 100), PEMBULATAN)}%\")  # In percent\n"
   ],
   "id": "8d57815f7da66f16",
   "outputs": [
    {
     "name": "stdout",
     "output_type": "stream",
     "text": [
      "Exact = 701.19588\n",
      "Simpson 8/3 = 555.22478\n",
      "|Kesalahan Sebenarnya (Et)| = 145.97110\n",
      "|Kesalahan Relatif (et)| = 20.81745%\n"
     ]
    }
   ],
   "execution_count": 79
  }
 ],
 "metadata": {
  "kernelspec": {
   "display_name": "Python 3",
   "language": "python",
   "name": "python3"
  },
  "language_info": {
   "codemirror_mode": {
    "name": "ipython",
    "version": 2
   },
   "file_extension": ".py",
   "mimetype": "text/x-python",
   "name": "python",
   "nbconvert_exporter": "python",
   "pygments_lexer": "ipython2",
   "version": "2.7.6"
  }
 },
 "nbformat": 4,
 "nbformat_minor": 5
}
