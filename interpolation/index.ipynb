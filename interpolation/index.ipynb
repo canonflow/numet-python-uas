{
 "cells": [
  {
   "metadata": {
    "ExecuteTime": {
     "end_time": "2024-11-29T11:50:27.297792Z",
     "start_time": "2024-11-29T11:50:26.586797Z"
    }
   },
   "cell_type": "code",
   "source": [
    "from sympy import symbols, Eq, solve, Matrix\n",
    "import sympy as sp\n",
    "import math"
   ],
   "id": "a1f8b37ae2b048c8",
   "outputs": [],
   "execution_count": 1
  },
  {
   "metadata": {},
   "cell_type": "markdown",
   "source": "## Gregory Maju",
   "id": "8bc433b7eba5d375"
  },
  {
   "cell_type": "code",
   "id": "initial_id",
   "metadata": {
    "collapsed": true,
    "ExecuteTime": {
     "end_time": "2024-11-29T12:02:33.493342Z",
     "start_time": "2024-11-29T12:02:33.477343Z"
    }
   },
   "source": [
    "data = [\n",
    "    [2, 4, 6, 8, 10],  # X\n",
    "    [2.5, 3.9, 7.8, 10.2, 15.3]  # Y\n",
    "]\n",
    "pembulatan = 6\n",
    "\n",
    "x = 4.25\n",
    "h = data[0][1] - data[0][0]\n",
    "s = (x - data[0][0])/h\n",
    "print(\"======================== COMPONENTS ========================\")\n",
    "print(f\"x: {x}\")\n",
    "print(f\"h: {h}\")\n",
    "print(f\"s: {s:.5f}\\n\")\n",
    "\n",
    "n = len(data[1])\n",
    "\n",
    "# res = [\n",
    "#     [-0.63212],\n",
    "#     [-0.27763],\n",
    "#     [0.10653],\n",
    "#     [0.5288],\n",
    "#     [1]\n",
    "# ]\n",
    "res = [[y] for y in data[1]]\n",
    "\n",
    "# ===== Calculation Tables =====\n",
    "for i in range(n-1):\n",
    "    for j in range(n-i-1):\n",
    "        curr = res[j][i]\n",
    "        curr_forward = res[j+1][i]\n",
    "        temp = curr_forward - curr\n",
    "        res[j].append(temp)\n",
    "\n",
    "print(\"======================== TABLE ========================\")\n",
    "for val in res:\n",
    "    for v in val:\n",
    "        print(f\"{round(v, pembulatan):<12}\", end=\"\")\n",
    "    print(\"\")\n",
    "print(\"\")\n",
    "\n",
    "# ===== Calculation Value =====\n",
    "y = res[0][0]\n",
    "cnt = 1\n",
    "for val in res[0][1:]:\n",
    "    # val = round(val, 5)\n",
    "    val = val / math.factorial(cnt)\n",
    "    for si in range(cnt):\n",
    "        val *= (s - si)\n",
    "    cnt += 1\n",
    "    y += val\n",
    "\n",
    "print(\"======================== RESULT ========================\")\n",
    "print(f\"y({x}) = {round(y, pembulatan)}\")"
   ],
   "outputs": [
    {
     "name": "stdout",
     "output_type": "stream",
     "text": [
      "======================== COMPONENTS ========================\n",
      "x: 4.25\n",
      "h: 2\n",
      "s: 1.12500\n",
      "\n",
      "======================== TABLE ========================\n",
      "2.5         1.4         2.5         -4.0        8.2         \n",
      "3.9         3.9         -1.5        4.2         \n",
      "7.8         2.4         2.7         \n",
      "10.2        5.1         \n",
      "15.3        \n",
      "\n",
      "======================== RESULT ========================\n",
      "y(4.25) = 4.411639\n"
     ]
    }
   ],
   "execution_count": 7
  },
  {
   "metadata": {},
   "cell_type": "markdown",
   "source": "## Gregory Mundur",
   "id": "a2d96384284efe83"
  },
  {
   "metadata": {
    "ExecuteTime": {
     "end_time": "2024-11-29T11:50:29.058775Z",
     "start_time": "2024-11-29T11:50:29.041778Z"
    }
   },
   "cell_type": "code",
   "source": [
    "data = [\n",
    "    [-1, -0.75, -0.5, -0.25, 0],  # X\n",
    "    [-0.63212, -0.27763, 0.10653, 0.5288, 1]  # Y\n",
    "]\n",
    "pembulatan = 5\n",
    "\n",
    "x = -0.8\n",
    "h = data[0][1] - data[0][0]\n",
    "s = (x - data[0][-1])/h\n",
    "print(\"======================== COMPONENTS ========================\")\n",
    "print(f\"x: {x}\")\n",
    "print(f\"h: {h}\")\n",
    "print(f\"s: {s:.5f}\\n\")\n",
    "\n",
    "n = len(data[1])\n",
    "\n",
    "# res = [\n",
    "#     [-0.63212],\n",
    "#     [-0.27763],\n",
    "#     [0.10653],\n",
    "#     [0.5288],\n",
    "#     [1]\n",
    "# ]\n",
    "res = [[y] for y in data[1]]\n",
    "\n",
    "# ===== Calculation Tables =====\n",
    "for i in range(n-1):\n",
    "    for j in range(n-i-1):\n",
    "        curr = res[j][i]\n",
    "        curr_forward = res[j+1][i]\n",
    "        temp = curr_forward - curr\n",
    "        res[j].append(temp)\n",
    "\n",
    "print(\"======================== TABLE ========================\")\n",
    "for val in res:\n",
    "    for v in val:\n",
    "        print(f\"{round(v, pembulatan):<12}\", end=\"\")\n",
    "    print(\"\")\n",
    "print(\"\")\n",
    "\n",
    "# ===== Calculation Value =====\n",
    "y = res[-1][0]\n",
    "cnt = 1\n",
    "\n",
    "for val in res[::-1][1:]:\n",
    "    # val = round(val, 5)\n",
    "    val = val[-1] / math.factorial(cnt)\n",
    "    for si in range(cnt):\n",
    "        val *= (s + si)\n",
    "    cnt += 1\n",
    "    y += val\n",
    "\n",
    "print(\"======================== RESULT ========================\")\n",
    "print(f\"y({x}) = {round(y, pembulatan)}\")"
   ],
   "id": "7f586de593cb6e3f",
   "outputs": [
    {
     "name": "stdout",
     "output_type": "stream",
     "text": [
      "======================== COMPONENTS ========================\n",
      "x: -0.8\n",
      "h: 0.25\n",
      "s: -3.20000\n",
      "\n",
      "======================== TABLE ========================\n",
      "-0.63212    0.35449     0.02967     0.00844     0.00238     \n",
      "-0.27763    0.38416     0.03811     0.01082     \n",
      "0.10653     0.42227     0.04893     \n",
      "0.5288      0.4712      \n",
      "1           \n",
      "\n",
      "======================== RESULT ========================\n",
      "y(-0.8) = -0.35067\n"
     ]
    }
   ],
   "execution_count": 3
  },
  {
   "metadata": {},
   "cell_type": "markdown",
   "source": "## Lagrange",
   "id": "af85409ff3793a37"
  },
  {
   "metadata": {
    "ExecuteTime": {
     "end_time": "2024-11-29T11:50:33.172076Z",
     "start_time": "2024-11-29T11:50:33.148079Z"
    }
   },
   "cell_type": "code",
   "source": [
    "data = [\n",
    "    [300, 301, 305, 307],  # X\n",
    "    [2.4771, 2.4829, 2.4843, 2.4871]  # Y\n",
    "]\n",
    "\n",
    "pembulatan = 5\n",
    "\n",
    "n = len(data[1])\n",
    "x = 304\n",
    "\n",
    "'''\n",
    "coords = [\n",
    "    [i, Li, Pi]\n",
    "]\n",
    "'''\n",
    "coords = [\n",
    "    [0],\n",
    "    [1],\n",
    "    [2],\n",
    "    [3]\n",
    "]\n",
    "\n",
    "# ===== CALCULATE Li =====\n",
    "for idx, coord in enumerate(coords):\n",
    "    i = coord[0]\n",
    "    xi = data[0][i]\n",
    "    li = 1\n",
    "    for j_idx, coord2 in enumerate(coords):\n",
    "        j = coord2[0]\n",
    "        if j != i:\n",
    "            # j = coords[j][0]\n",
    "            xj = data[0][j]\n",
    "            li *= ((x - xj) / (xi - xj))\n",
    "    pi = data[1][i] * li\n",
    "    coords[idx].append(li)\n",
    "    coords[idx].append(pi)\n",
    "    \n",
    "print(\"======================== TABLE ==========================\")\n",
    "print(f\"{'x':<12}{'f(x)':<12}{'Li(xi)':<12}{'Pi':<12}\")\n",
    "for coord in coords:\n",
    "    i = coord[0]\n",
    "    print(f\"{data[0][i]:<12}\", end=\"\")\n",
    "    print(f\"{data[1][i]:<12}\", end=\"\")\n",
    "    print(f\"{round(coord[1], pembulatan):<12}\", end=\"\")\n",
    "    print(f\"{round(coord[2], pembulatan):<12}\", end=\"\")\n",
    "    print(\"\")\n",
    "print(\"\")\n",
    "    \n",
    "# ===== CALCULATE Pn(x) =====\n",
    "pn = 0\n",
    "for coord in coords:\n",
    "    pn += coord[-1]\n",
    "\n",
    "print(\"======================== RESULT ==========================\")\n",
    "print(f\"f({x}) = {round(pn, pembulatan)}\")"
   ],
   "id": "8622de221f56442c",
   "outputs": [
    {
     "name": "stdout",
     "output_type": "stream",
     "text": [
      "======================== TABLE ==========================\n",
      "x           f(x)        Li(xi)      Pi          \n",
      "300         2.4771      -0.25714    -0.63697    \n",
      "301         2.4829      0.5         1.24145     \n",
      "305         2.4843      0.9         2.23587     \n",
      "307         2.4871      -0.14286    -0.3553     \n",
      "\n",
      "======================== RESULT ==========================\n",
      "f(304) = 2.48505\n"
     ]
    }
   ],
   "execution_count": 4
  }
 ],
 "metadata": {
  "kernelspec": {
   "display_name": "Python 3",
   "language": "python",
   "name": "python3"
  },
  "language_info": {
   "codemirror_mode": {
    "name": "ipython",
    "version": 2
   },
   "file_extension": ".py",
   "mimetype": "text/x-python",
   "name": "python",
   "nbconvert_exporter": "python",
   "pygments_lexer": "ipython2",
   "version": "2.7.6"
  }
 },
 "nbformat": 4,
 "nbformat_minor": 5
}
