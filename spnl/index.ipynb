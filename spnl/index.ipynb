{
 "cells": [
  {
   "metadata": {
    "ExecuteTime": {
     "end_time": "2024-11-29T09:47:38.323223Z",
     "start_time": "2024-11-29T09:47:37.626441Z"
    }
   },
   "cell_type": "code",
   "source": [
    "from sympy import symbols, Eq, solve, Matrix\n",
    "import sympy as sp\n",
    "import numpy as np"
   ],
   "id": "6b4dec182b61e7dd",
   "outputs": [],
   "execution_count": 35
  },
  {
   "metadata": {},
   "cell_type": "markdown",
   "source": "## Iterasi 1 titik",
   "id": "e3b3a2b069e3281"
  },
  {
   "cell_type": "code",
   "id": "initial_id",
   "metadata": {
    "collapsed": true,
    "ExecuteTime": {
     "end_time": "2024-11-29T12:11:41.394093Z",
     "start_time": "2024-11-29T12:11:41.383093Z"
    }
   },
   "source": [
    "'''\n",
    "1. Tentukan fungsi utk func_x, func_y, .. dari fungsi utama \n",
    "'''\n",
    "x = symbols('x')\n",
    "y = symbols('y')\n",
    "n = 4  # Adjust the n\n",
    "\n",
    "xys = [\n",
    "    [1, 1]\n",
    "]\n",
    "\n",
    "func_x = ((19 + y**2 - 4*y) / (2)) ** (1/3)\n",
    "func_y = ((26 - x**2 - 2*x) / (2)) ** 0.5\n",
    "\n",
    "for i in range(n):\n",
    "    xi, yi = xys[-1]\n",
    "    x_temp = round(func_x.subs({x: xi, y: yi}).evalf(), 5)\n",
    "    y_temp = round(func_y.subs({x: xi, y: yi}).evalf(), 5)\n",
    "    xys.append([x_temp, y_temp])\n",
    "    \n",
    "for iter, res in enumerate(xys):\n",
    "    print(iter, res)"
   ],
   "outputs": [
    {
     "name": "stdout",
     "output_type": "stream",
     "text": [
      "0 [1, 1]\n",
      "1 [2.00000000000000, 3.39116]\n",
      "2 [2.03824, 3.00000000000000]\n",
      "3 [2.00000000000000, 2.98070]\n",
      "4 [1.99841, 3.00000000000000]\n"
     ]
    }
   ],
   "execution_count": 82
  },
  {
   "metadata": {},
   "cell_type": "markdown",
   "source": "## Newton",
   "id": "9ce91fd6f84e336d"
  },
  {
   "metadata": {
    "ExecuteTime": {
     "end_time": "2024-11-29T12:12:09.564935Z",
     "start_time": "2024-11-29T12:12:09.543932Z"
    }
   },
   "cell_type": "code",
   "source": [
    "def find_first_jacobian(vars, equations, initial_guess):\n",
    "    # variables = list(set().union(*[eq.free_symbols for eq in equations]))\n",
    "    # jacobian = Matrix([[sp.diff(eq, var) for var in variables] for eq in equations])\n",
    "    jacobian =[]\n",
    "    \n",
    "    for equation in equations:\n",
    "        curr_calc = []\n",
    "        for i, var in enumerate(vars):\n",
    "            temp = sp.diff(equation, var)\n",
    "            curr_calc.append(temp)\n",
    "        jacobian.append(curr_calc)\n",
    "        \n",
    "    return jacobian\n",
    "\n",
    "def find_jacobian_value(vars, xys, jacobian):\n",
    "    js = []\n",
    "    \n",
    "    for iter, jacob in enumerate(jacobian):\n",
    "        temp = []\n",
    "        for j in jacob:\n",
    "            dics = {}\n",
    "            for sym, var in zip(vars, xys):\n",
    "                dics[sym] = var\n",
    "            temp.append(j.subs(dics).evalf())\n",
    "        js.append(temp)\n",
    "    return js"
   ],
   "id": "f63ba9c7c866ec1a",
   "outputs": [],
   "execution_count": 83
  },
  {
   "metadata": {
    "ExecuteTime": {
     "end_time": "2024-11-29T12:13:29.726346Z",
     "start_time": "2024-11-29T12:13:29.673346Z"
    }
   },
   "cell_type": "code",
   "source": [
    "x = symbols('x')\n",
    "y = symbols('y')\n",
    "pembulatan = 5\n",
    "\n",
    "func_x = 2 * x * x * x - y ** 2 + 4 * y - 19\n",
    "func_y = x ** 2 + 2 * x + 2 * y ** 2 - 26\n",
    "\n",
    "xys = [\n",
    "    [1, 1]\n",
    "]\n",
    "\n",
    "# ===== INITIAL JACOBIAN =====\n",
    "print(\"======================== JACOBIAN ==========================\")\n",
    "jacobian = find_first_jacobian([x, y], [func_x, func_y], xys)\n",
    "\n",
    "first_approach = find_jacobian_value([x, y], xys[0], jacobian)\n",
    "\n",
    "for values in first_approach:\n",
    "    for pos, value in enumerate(values):\n",
    "        if pos == 0:\n",
    "            print(\"|\", end=\"\")\n",
    "        if (pos < len(values) - 1):\n",
    "            print(f\"{round(float(value), 5):<12}\", end=\"\")\n",
    "        else:\n",
    "            print(f\"{round(float(value), 5)}\", end=\"\")\n",
    "        if pos == len(values) - 1:\n",
    "            print(\"|\", end=\"\")\n",
    "    print(\"\")\n",
    "print(\"\")\n",
    "\n",
    "# ===== F1 AND F2 =====\n",
    "print(\"======================== F1 AND F2 ==========================\")\n",
    "f1 = func_x.subs({x: xys[0][0], y: xys[0][1]}).evalf()\n",
    "f2 = func_y.subs({x: xys[0][0], y: xys[0][1]}).evalf()\n",
    "\n",
    "print(f\"f1(x0, y0): {round(float(f1), pembulatan)}\\nf2(x0, y0): {round(float(f2), pembulatan)}\\n\")\n",
    "\n",
    "# ===== FIRST APPROACH X AND Y =====\n",
    "print(\"======================== VALUES OF X AND Y ==========================\")\n",
    "# iteration\n",
    "iteration = 3\n",
    "\n",
    "for i in range(iteration):\n",
    "    X = np.array(xys[-1], dtype=float)  # Current guess for [x, y]\n",
    "    F = np.array([f1, f2], dtype=float)  # Function values at current guess\n",
    "\n",
    "    # Get the Jacobian matrix at the current guess\n",
    "    jacobian_values = np.array(find_jacobian_value([x, y], xys[-1], jacobian), dtype=float)\n",
    "\n",
    "    # Solve for the correction delta (J * delta = F, so we need to invert J)\n",
    "    delta = np.linalg.solve(jacobian_values, F)  # Solving J * delta = F\n",
    "\n",
    "    # Update X (x, y)\n",
    "    X_new = X - delta  # Update using the correction delta\n",
    "    print(f\"Iteration {i + 1}: {X_new}\")\n",
    "\n",
    "    # Append the new [x, y] to the list for the next iteration\n",
    "    xys.append(list(X_new))\n",
    "\n",
    "    # Recalculate f1 and f2 for the new x, y for next iteration\n",
    "    f1 = func_x.subs({x: X_new[0], y: X_new[1]}).evalf()\n",
    "    f2 = func_y.subs({x: X_new[0], y: X_new[1]}).evalf()\n",
    "    \n"
   ],
   "id": "eefc69a6ad287383",
   "outputs": [
    {
     "name": "stdout",
     "output_type": "stream",
     "text": [
      "======================== JACOBIAN ==========================\n",
      "|6.0         2.0|\n",
      "|4.0         4.0|\n",
      "\n",
      "======================== F1 AND F2 ==========================\n",
      "f1(x0, y0): -14.0\n",
      "f2(x0, y0): -21.0\n",
      "\n",
      "======================== VALUES OF X AND Y ==========================\n",
      "Iteration 1: [1.875 5.375]\n",
      "Iteration 2: [1.91640484 3.54779289]\n",
      "Iteration 3: [1.99630525 3.0443017 ]\n"
     ]
    }
   ],
   "execution_count": 84
  },
  {
   "metadata": {},
   "cell_type": "code",
   "outputs": [],
   "execution_count": null,
   "source": "",
   "id": "dd4002e4735a75cf"
  }
 ],
 "metadata": {
  "kernelspec": {
   "display_name": "Python 3",
   "language": "python",
   "name": "python3"
  },
  "language_info": {
   "codemirror_mode": {
    "name": "ipython",
    "version": 2
   },
   "file_extension": ".py",
   "mimetype": "text/x-python",
   "name": "python",
   "nbconvert_exporter": "python",
   "pygments_lexer": "ipython2",
   "version": "2.7.6"
  }
 },
 "nbformat": 4,
 "nbformat_minor": 5
}
