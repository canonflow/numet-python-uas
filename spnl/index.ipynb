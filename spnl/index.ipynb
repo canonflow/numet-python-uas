{
 "cells": [
  {
   "metadata": {
    "ExecuteTime": {
     "end_time": "2024-11-29T02:35:37.480343Z",
     "start_time": "2024-11-29T02:35:37.468879Z"
    }
   },
   "cell_type": "code",
   "source": [
    "from sympy import symbols, Eq, solve, Matrix\n",
    "import sympy as sp"
   ],
   "id": "6b4dec182b61e7dd",
   "outputs": [],
   "execution_count": 12
  },
  {
   "metadata": {},
   "cell_type": "markdown",
   "source": "## Iterasi 1 titik",
   "id": "e3b3a2b069e3281"
  },
  {
   "cell_type": "code",
   "id": "initial_id",
   "metadata": {
    "collapsed": true,
    "ExecuteTime": {
     "end_time": "2024-11-29T02:30:46.936440Z",
     "start_time": "2024-11-29T02:30:46.920802Z"
    }
   },
   "source": [
    "'''\n",
    "1. Tentukan fungsi utk func_x, func_y, .. dari fungsi utama \n",
    "'''\n",
    "x = symbols('x')\n",
    "y = symbols('y')\n",
    "n = 4  # Adjust the n\n",
    "\n",
    "xys = [\n",
    "    [3, -12]\n",
    "]\n",
    "\n",
    "func_x = (11 + 4*y - x) / (y)\n",
    "func_y = (4 + x + 4*y) / (x)\n",
    "\n",
    "for i in range(n):\n",
    "    xi, yi = xys[-1]\n",
    "    x_temp = func_x.subs({x: xi, y: yi}).evalf()\n",
    "    y_temp = func_y.subs({x: xi, y: yi}).evalf()\n",
    "    xys.append([x_temp, y_temp])\n",
    "    \n",
    "for iter, res in enumerate(xys):\n",
    "    print(iter, res)"
   ],
   "outputs": [
    {
     "name": "stdout",
     "output_type": "stream",
     "text": [
      "0 [3, -12]\n",
      "1 [3.33333333333333, -13.6666666666667]\n",
      "2 [3.43902439024390, -14.2000000000000]\n",
      "3 [3.46753692889042, -14.3531914893617]\n",
      "4 [3.47520639735821, -14.4036617497650]\n"
     ]
    }
   ],
   "execution_count": 10
  },
  {
   "metadata": {},
   "cell_type": "markdown",
   "source": "## Newton",
   "id": "9ce91fd6f84e336d"
  },
  {
   "metadata": {
    "ExecuteTime": {
     "end_time": "2024-11-29T03:03:43.561700Z",
     "start_time": "2024-11-29T03:03:43.546060Z"
    }
   },
   "cell_type": "code",
   "source": [
    "def find_first_jacobian(vars, equations, initial_guess):\n",
    "    # variables = list(set().union(*[eq.free_symbols for eq in equations]))\n",
    "    # jacobian = Matrix([[sp.diff(eq, var) for var in variables] for eq in equations])\n",
    "    jacobian =[]\n",
    "    \n",
    "    for equation in equations:\n",
    "        curr_calc = []\n",
    "        for i, var in enumerate(vars):\n",
    "            temp = sp.diff(equation, var)\n",
    "            curr_calc.append(temp)\n",
    "        jacobian.append(curr_calc)\n",
    "        \n",
    "    return jacobian\n",
    "\n",
    "def find_first_approach(vars, xys, jacobian):\n",
    "    js = []\n",
    "    \n",
    "    for iter, jacob in enumerate(jacobian):\n",
    "        temp = []\n",
    "        for j in jacob:\n",
    "            dics = {}\n",
    "            for sym, var in zip(vars, xys):\n",
    "                dics[sym] = var\n",
    "                print(dics)\n",
    "            temp.append(j.subs(dics).evalf())\n",
    "        js.append(temp)\n",
    "    return js"
   ],
   "id": "f63ba9c7c866ec1a",
   "outputs": [],
   "execution_count": 50
  },
  {
   "metadata": {
    "ExecuteTime": {
     "end_time": "2024-11-29T03:08:08.153978Z",
     "start_time": "2024-11-29T03:08:08.123654Z"
    }
   },
   "cell_type": "code",
   "source": [
    "x = symbols('x')\n",
    "y = symbols('y')\n",
    "\n",
    "func_x = (11 + 4*y - x) / (y)\n",
    "func_y = (4 + x + 4*y) / (x)\n",
    "\n",
    "xys = [\n",
    "    [0, 0]\n",
    "]\n",
    "\n",
    "# print(sp.diff(func_x, y))\n",
    "\n",
    "jacobian = find_first_jacobian([x, y], [func_x, func_y], xys)\n",
    "\n",
    "# for iter, jacob in enumerate(jacobian):\n",
    "#     for j in jacob:\n",
    "#         curr = j\n",
    "#         for i in range(2):\n",
    "#             if i == 0:\n",
    "#                 curr.subs({x: 1})\n",
    "#             else:\n",
    "#                 curr.subs({y: 1})\n",
    "#         print(curr.evalf())\n",
    "print(jacobian)\n",
    "# print(find_first_approach([x, y], xys[0], jacobian))"
   ],
   "id": "eefc69a6ad287383",
   "outputs": [
    {
     "name": "stdout",
     "output_type": "stream",
     "text": [
      "[[-1/y, 4/y - (-x + 4*y + 11)/y**2], [1/x - (x + 4*y + 4)/x**2, 4/x]]\n"
     ]
    }
   ],
   "execution_count": 54
  },
  {
   "metadata": {},
   "cell_type": "code",
   "outputs": [],
   "execution_count": null,
   "source": "",
   "id": "dd4002e4735a75cf"
  }
 ],
 "metadata": {
  "kernelspec": {
   "display_name": "Python 3",
   "language": "python",
   "name": "python3"
  },
  "language_info": {
   "codemirror_mode": {
    "name": "ipython",
    "version": 2
   },
   "file_extension": ".py",
   "mimetype": "text/x-python",
   "name": "python",
   "nbconvert_exporter": "python",
   "pygments_lexer": "ipython2",
   "version": "2.7.6"
  }
 },
 "nbformat": 4,
 "nbformat_minor": 5
}
